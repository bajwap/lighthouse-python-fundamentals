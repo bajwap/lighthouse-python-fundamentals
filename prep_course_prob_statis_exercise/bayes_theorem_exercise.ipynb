{
 "cells": [
  {
   "cell_type": "markdown",
   "metadata": {
    "ExecuteTime": {
     "end_time": "2020-02-05T17:56:18.818219Z",
     "start_time": "2020-02-05T17:56:18.810698Z"
    }
   },
   "source": [
    "## Exercise 1\n",
    "In Orange County, 51% of the adults are males. (It doesn't take too much advanced\n",
    "mathematics to deduce that the other 49% are females.) One adult is randomly selected\n",
    "for a survey involving credit card usage.\n",
    "\n",
    "- **(a)** Find the probability that the selected person is a male.\n",
    "\n",
    "- **(b)** It is later learned that the selected survey subject was smoking a cigar. Also, 9.5% of males smoke cigars, whereas 1.7% of females smoke cigars (based on data from the Substance Abuse and Mental Health Services Administration). Use this additional information to find the probability that the cigar−smoking respondent is a male\n",
    "\n",
    "Use following notation:\n",
    "M = male <br>\n",
    "F = female <br>\n",
    "C = cigar smoker<br>\n",
    "NC = not a cigar smoker<br>\n"
   ]
  },
  {
   "cell_type": "markdown",
   "metadata": {},
   "source": [
    "**Answer:**"
   ]
  },
  {
   "cell_type": "markdown",
   "metadata": {},
   "source": [
    "**(a)** P(M) = 0.51"
   ]
  },
  {
   "cell_type": "markdown",
   "metadata": {},
   "source": [
    "**(b)**<br>\n",
    "<br>\n",
    "P(M) = 0.51<br>\n",
    "P(F) = 0.49<br>\n",
    "P(C|M) = 0.095<br>\n",
    "P(C|F) = 0.017<br>\n",
    "P(M|C) = ?<br>\n",
    "<br>\n",
    "P(M|C) = P(C|M) P(M)/P(C)<br>\n",
    "<br>\n",
    "P(C) = P(C|M) P(M) + P(C|F) P(F)<br>\n",
    "P(C) = (0.095)(0.51) + (0.017)(0.49) = ).05678<br>\n",
    "<br>\n",
    "P(M|C) = (0.095)(0.51)/(0.05678) = 0.853293<br>\n",
    "<br>\n"
   ]
  },
  {
   "cell_type": "markdown",
   "metadata": {
    "ExecuteTime": {
     "end_time": "2020-02-05T17:56:20.532960Z",
     "start_time": "2020-02-05T17:56:20.525450Z"
    }
   },
   "source": [
    "# Exercise 2\n",
    "\n",
    "A diagnostic test has a probability 0.95 of giving a positive result when applied to a person suffering\n",
    "from a certain disease, and a probability 0.10 of giving a (false) positive when applied to a non-sufferer. It is\n",
    "estimated that 0.5 % of the population are sufferers. Suppose that the test is now administered to a person about\n",
    "whom we have no relevant information relating to the disease (apart from the fact that he/she comes from this\n",
    "population). \n",
    "\n",
    "Calculate the following probabilities:\n",
    "- **(a)** that the test result will be positive;\n",
    "- **(b)** that, given a positive result, the person is a sufferer;\n",
    "- **(c)** that, given a negative result, the person is a non-sufferer;\n",
    "- **(d)** that the person will be misclassified.\n",
    "\n",
    "Use following notation:\n",
    "\n",
    "T = test positive <br>\n",
    "NT = test negative<br>\n",
    "S = sufferer<br>\n",
    "NS = non-sufferer<br>\n",
    "M = misclassified<br>\n",
    "\n",
    "Solve it by two approaches:\n",
    "1. Arithmetically\n",
    "2. By simulation"
   ]
  },
  {
   "cell_type": "markdown",
   "metadata": {},
   "source": [
    "**Solution 1 - Arithmetic**<br>\n",
    "<br>\n",
    "P(T|S) = 0.95    ==>  P(NT|S) = 0.05<br>\n",
    "P(T|NS) = 0.10   ==>  P(NT|NS) = 0.90<br>\n",
    "P(S) = 0.5% = 0.005   ==>  P(NS) = 99.5% = 0.995<br>\n",
    "<br>\n",
    "**(a)**<br>\n",
    "P(T) = P(T|S) P(S) + P(T|NS) P(NS) = (0.95)(0.005) + (0.10)(0.995) = 0.10425 = 10.43%<br>\n",
    "<br>\n",
    "**(b)**<br>\n",
    "P(S|T) = P(T|S) P(S)/P(T) = (0.95)(0.005)/(0.10425) = 0.04556 = 4.56%<br>\n",
    "<br>\n",
    "**(c)**<br>\n",
    "P(NS|NT) = P(NT|NS) P(NS)/P(NT)<br>\n",
    "P(NT) = P(NT|NS) P(NS) + P(NT|S) P(S) = (0.9)(0.995) + (0.05)(0.005) = 0.89575<br>\n",
    "<br>\n",
    "P(NS|NT) = (0.90)(0.995)/(0.89575) = 0.99972 = 99.97%<br>\n",
    "<br>\n",
    "**(d)**\n",
    "P(M) = P(T|NS) P(NS) + P(NT|S) P(S) = (0.10)(0.995) + (0.05)(0.005) = 0.09975 = 9.98%%<br>\n",
    "<br>\n",
    "<br>"
   ]
  },
  {
   "cell_type": "markdown",
   "metadata": {},
   "source": [
    "**Solution 2 - Simulation**"
   ]
  },
  {
   "cell_type": "code",
   "execution_count": 99,
   "metadata": {},
   "outputs": [
    {
     "name": "stdout",
     "output_type": "stream",
     "text": [
      "The probability that the test result will be positive is: 10.38%\n",
      "The probability that, given a positive result, the person is a sufferer is: 4.93%\n",
      "The probability that, given a negative result, the person is a non-sufferer is: 99.97%\n",
      "The probability that the person will be misclassified is: 9.95%\n"
     ]
    }
   ],
   "source": [
    "import numpy as np\n",
    "\n",
    "\n",
    "n_runs = 100000\n",
    "\n",
    "T = 0 # test positive\n",
    "NT = 0 # test negative\n",
    "S = 0 # sufferer\n",
    "T_S = 0 # test is positive given sufferer\n",
    "NT_S = 0 # test is negative given sufferer\n",
    "NS = 0 # non-sufferer\n",
    "T_NS = 0 # test is positive given non-sufferer\n",
    "NT_NS = 0 # test is negative given non-sufferer\n",
    "M = 0 # misclassified\n",
    "\n",
    "\n",
    "for i in range(n_runs):\n",
    "    \n",
    "    # person has disease\n",
    "    if np.random.random() < 0.005:\n",
    "        S += 1\n",
    "        \n",
    "        # test results\n",
    "        if np.random.random() < 0.95:\n",
    "            T_S += 1\n",
    "            T += 1\n",
    "        else:\n",
    "            NT_S += 1\n",
    "            NT += 1\n",
    "    \n",
    "    # person does not have disease\n",
    "    else:\n",
    "        NS += 1\n",
    "        \n",
    "        # test results\n",
    "        if np.random.random() < 0.10:\n",
    "            T_NS += 1\n",
    "            T += 1\n",
    "        else:\n",
    "            NT_NS += 1\n",
    "            NT += 1\n",
    "        \n",
    "# create probabilities\n",
    "\n",
    "P_T = T/n_runs * 100          # probability the test result is positive\n",
    "P_NT = NT/n_runs * 100        # probability the test result is negative\n",
    "P_S = S/n_runs * 100          # probability the person is a sufferer\n",
    "P_T_S = T_S/n_runs * 100      # probability the person tests positive given he/she is a sufferer\n",
    "P_NT_S = NT_S/n_runs * 100    # probability the person tests negative given he/she is a sufferer\n",
    "P_NS = NS/n_runs * 100        # probability the person is not a sufferer\n",
    "P_T_NS = T_NS/n_runs * 100    # probability the person tests positive given he/she is not a sufferer\n",
    "P_NT_NS = NT_NS/n_runs * 100  # probability the person tests negative given he/she is not a sufferer\n",
    " \n",
    "\n",
    "P_S_T = (P_T_S)/(P_T) * 100    # probability the person is a sufferer given a positive test result\n",
    "P_NS_NT = (P_NT_NS)/(P_NT) * 100    # probability the person is not a sufferer given a negative test result\n",
    "P_M = (P_NT_S + P_T_NS)/(P_NS) * 100\n",
    "\n",
    "\n",
    "print('The probability that the test result will be positive is: {:.2f}%'.format(P_T))\n",
    "print('The probability that, given a positive result, the person is a sufferer is: {:.2f}%'.format(P_S_T))\n",
    "print('The probability that, given a negative result, the person is a non-sufferer is: {:.2f}%'.format(P_NS_NT))\n",
    "print('The probability that the person will be misclassified is: {:.2f}%'.format(P_M))\n"
   ]
  }
 ],
 "metadata": {
  "kernelspec": {
   "display_name": "Python 3",
   "language": "python",
   "name": "python3"
  },
  "language_info": {
   "codemirror_mode": {
    "name": "ipython",
    "version": 3
   },
   "file_extension": ".py",
   "mimetype": "text/x-python",
   "name": "python",
   "nbconvert_exporter": "python",
   "pygments_lexer": "ipython3",
   "version": "3.8.5"
  },
  "toc": {
   "base_numbering": 1,
   "nav_menu": {},
   "number_sections": true,
   "sideBar": true,
   "skip_h1_title": false,
   "title_cell": "Table of Contents",
   "title_sidebar": "Contents",
   "toc_cell": false,
   "toc_position": {},
   "toc_section_display": true,
   "toc_window_display": false
  },
  "varInspector": {
   "cols": {
    "lenName": 16,
    "lenType": 16,
    "lenVar": 40
   },
   "kernels_config": {
    "python": {
     "delete_cmd_postfix": "",
     "delete_cmd_prefix": "del ",
     "library": "var_list.py",
     "varRefreshCmd": "print(var_dic_list())"
    },
    "r": {
     "delete_cmd_postfix": ") ",
     "delete_cmd_prefix": "rm(",
     "library": "var_list.r",
     "varRefreshCmd": "cat(var_dic_list()) "
    }
   },
   "types_to_exclude": [
    "module",
    "function",
    "builtin_function_or_method",
    "instance",
    "_Feature"
   ],
   "window_display": false
  }
 },
 "nbformat": 4,
 "nbformat_minor": 4
}
