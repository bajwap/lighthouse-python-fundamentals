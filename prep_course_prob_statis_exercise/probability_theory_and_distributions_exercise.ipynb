{
 "cells": [
  {
   "cell_type": "code",
   "execution_count": 107,
   "metadata": {
    "ExecuteTime": {
     "end_time": "2020-02-05T17:54:42.062131Z",
     "start_time": "2020-02-05T17:54:41.626763Z"
    }
   },
   "outputs": [],
   "source": [
    "# import numpy\n",
    "import numpy as np\n",
    "\n",
    "# import matplotlib.pyplot\n",
    "import matplotlib.pyplot as plt\n",
    "\n",
    "# import Counter\n",
    "from collections import Counter\n",
    "\n",
    "# use style 'fivethirtyeight' (optional)\n",
    "plt.style.use('fivethirtyeight')"
   ]
  },
  {
   "cell_type": "markdown",
   "metadata": {
    "ExecuteTime": {
     "end_time": "2020-02-05T17:54:42.113199Z",
     "start_time": "2020-02-05T17:54:42.101587Z"
    }
   },
   "source": [
    "#### Create function `perform_bernouli_trial` with parameters n and p\n",
    "\n",
    "PARAMS:\n",
    "- n (int) - number of trials\n",
    "- p (float) - probability of success\n",
    "\n",
    "RETURNS:\n",
    "- n_success (int) - number of successes"
   ]
  },
  {
   "cell_type": "code",
   "execution_count": 108,
   "metadata": {},
   "outputs": [],
   "source": [
    "def perform_bernouli_trials(n, p):\n",
    "    \n",
    "    n_success = 0\n",
    "    for i in range(n):\n",
    "        result = np.random.random()\n",
    "        if result < p:\n",
    "            n_success += 1\n",
    "    return int(n_success)"
   ]
  },
  {
   "cell_type": "markdown",
   "metadata": {
    "ExecuteTime": {
     "end_time": "2020-02-05T17:54:42.610756Z",
     "start_time": "2020-02-05T17:54:42.602316Z"
    }
   },
   "source": [
    "#### Use function `perform_bernoulli_trials` with inputs n = 100, p = 0.5"
   ]
  },
  {
   "cell_type": "code",
   "execution_count": 109,
   "metadata": {},
   "outputs": [
    {
     "name": "stdout",
     "output_type": "stream",
     "text": [
      "51\n"
     ]
    }
   ],
   "source": [
    "result = perform_bernouli_trials(100, 0.5)\n",
    "print(result)"
   ]
  },
  {
   "cell_type": "markdown",
   "metadata": {
    "ExecuteTime": {
     "end_time": "2020-02-05T17:54:43.020097Z",
     "start_time": "2020-02-05T17:54:42.962800Z"
    }
   },
   "source": [
    "#### Call function _perform_bernoulli_trials_ 1000-times with same parameters as before and store the result in `successes_list`"
   ]
  },
  {
   "cell_type": "code",
   "execution_count": 110,
   "metadata": {},
   "outputs": [],
   "source": [
    "successes_list = np.empty(1000)\n",
    "\n",
    "for i in range(1000):\n",
    "    successes_list[i] = perform_bernouli_trials(100, 0.5)\n"
   ]
  },
  {
   "cell_type": "markdown",
   "metadata": {
    "ExecuteTime": {
     "end_time": "2020-02-05T17:54:43.296477Z",
     "start_time": "2020-02-05T17:54:43.289959Z"
    }
   },
   "source": [
    "#### Count occurence of each number from `successes_list` using Counter and store the result in `count_occurence`\n",
    "\n",
    "You can find for more info about Counter [**here**](https://docs.python.org/2/library/collections.html#collections.Counter)."
   ]
  },
  {
   "cell_type": "code",
   "execution_count": 111,
   "metadata": {},
   "outputs": [
    {
     "name": "stdout",
     "output_type": "stream",
     "text": [
      "Counter({53.0: 85, 52.0: 80, 49.0: 78, 50.0: 76, 51.0: 72, 46.0: 65, 47.0: 61, 48.0: 56, 54.0: 55, 45.0: 50, 55.0: 45, 43.0: 41, 44.0: 38, 56.0: 33, 57.0: 27, 58.0: 24, 42.0: 24, 41.0: 17, 59.0: 13, 39.0: 11, 40.0: 8, 61.0: 8, 60.0: 8, 62.0: 5, 38.0: 5, 36.0: 3, 34.0: 2, 37.0: 2, 64.0: 2, 63.0: 2, 68.0: 1, 35.0: 1, 66.0: 1, 67.0: 1})\n"
     ]
    }
   ],
   "source": [
    "count_occurence = Counter(successes_list)\n",
    "print(count_occurence)\n"
   ]
  },
  {
   "cell_type": "markdown",
   "metadata": {
    "ExecuteTime": {
     "end_time": "2020-02-05T17:54:43.571225Z",
     "start_time": "2020-02-05T17:54:43.568147Z"
    }
   },
   "source": [
    "#### Count the probability for each number from `count_occurence` and store the result in `probas`\n"
   ]
  },
  {
   "cell_type": "code",
   "execution_count": 112,
   "metadata": {},
   "outputs": [],
   "source": [
    "probas = [val/len(successes_list) for val in count_occurence.values()]"
   ]
  },
  {
   "cell_type": "markdown",
   "metadata": {},
   "source": [
    "Below you have some information about how to do plots in Python. We will be covering all of this during the bootcamp. But you can find these basics here so we can visualize the distributions."
   ]
  },
  {
   "cell_type": "code",
   "execution_count": 113,
   "metadata": {
    "ExecuteTime": {
     "end_time": "2020-02-05T17:54:44.056628Z",
     "start_time": "2020-02-05T17:54:43.850076Z"
    }
   },
   "outputs": [
    {
     "data": {
      "image/png": "[encoded data removed]",
      "text/plain": [
       "<Figure size 432x288 with 1 Axes>"
      ]
     },
     "metadata": {},
     "output_type": "display_data"
    }
   ],
   "source": [
    "# plot distribution (PMF) of 'succes_list'\n",
    "plt.scatter(x=count_occurence.keys(), y=probas)\n",
    "plt.xlabel('number of succeess out of 100')\n",
    "plt.ylabel('probability')\n",
    "# Show the plot\n",
    "plt.show()"
   ]
  },
  {
   "cell_type": "markdown",
   "metadata": {
    "ExecuteTime": {
     "end_time": "2020-02-05T17:54:44.112264Z",
     "start_time": "2020-02-05T17:54:44.096570Z"
    }
   },
   "source": [
    "#### Generate 100000 numbers from uniform distribution with parameters a = 1, b = 6\n"
   ]
  },
  {
   "cell_type": "code",
   "execution_count": 114,
   "metadata": {
    "ExecuteTime": {
     "end_time": "2020-02-05T17:54:44.515039Z",
     "start_time": "2020-02-05T17:54:44.330746Z"
    }
   },
   "outputs": [],
   "source": [
    "uniform_samples = np.random.uniform(1, 6, 100000)"
   ]
  },
  {
   "cell_type": "markdown",
   "metadata": {
    "ExecuteTime": {
     "end_time": "2020-02-05T17:54:44.583762Z",
     "start_time": "2020-02-05T17:54:44.555162Z"
    }
   },
   "source": [
    "#### Check the mean of uniform data (using NumPy)"
   ]
  },
  {
   "cell_type": "code",
   "execution_count": 115,
   "metadata": {},
   "outputs": [
    {
     "name": "stdout",
     "output_type": "stream",
     "text": [
      "3.4958403664454925\n"
     ]
    }
   ],
   "source": [
    "print(uniform_samples.mean())"
   ]
  },
  {
   "cell_type": "markdown",
   "metadata": {
    "ExecuteTime": {
     "end_time": "2020-02-05T17:54:44.758510Z",
     "start_time": "2020-02-05T17:54:44.752087Z"
    }
   },
   "source": [
    "#### Generate 100000 numbers from exponential distribution with parameter beta = 0.5"
   ]
  },
  {
   "cell_type": "code",
   "execution_count": 116,
   "metadata": {},
   "outputs": [],
   "source": [
    "expo_samples = np.random.exponential(0.5, 100000)"
   ]
  },
  {
   "cell_type": "markdown",
   "metadata": {
    "ExecuteTime": {
     "end_time": "2020-02-05T17:54:45.134091Z",
     "start_time": "2020-02-05T17:54:44.956351Z"
    }
   },
   "source": [
    "#### Plot histogram of exponential distribution with params `density=True`, `bins=100`\n"
   ]
  },
  {
   "cell_type": "code",
   "execution_count": 117,
   "metadata": {},
   "outputs": [
    {
     "data": {
      "image/png": "[encoded data removed]",
      "text/plain": [
       "<Figure size 432x288 with 1 Axes>"
      ]
     },
     "metadata": {},
     "output_type": "display_data"
    }
   ],
   "source": [
    "plt.hist(expo_samples, density=True, bins=100)\n",
    "plt.show()"
   ]
  },
  {
   "cell_type": "markdown",
   "metadata": {
    "ExecuteTime": {
     "end_time": "2020-02-05T17:54:45.187080Z",
     "start_time": "2020-02-05T17:54:45.171406Z"
    }
   },
   "source": [
    "#### Check the mean of exponential data"
   ]
  },
  {
   "cell_type": "code",
   "execution_count": 118,
   "metadata": {},
   "outputs": [
    {
     "name": "stdout",
     "output_type": "stream",
     "text": [
      "0.5023357126859515\n"
     ]
    }
   ],
   "source": [
    "print(expo_samples.mean())"
   ]
  }
 ],
 "metadata": {
  "kernelspec": {
   "display_name": "Python 3",
   "language": "python",
   "name": "python3"
  },
  "language_info": {
   "codemirror_mode": {
    "name": "ipython",
    "version": 3
   },
   "file_extension": ".py",
   "mimetype": "text/x-python",
   "name": "python",
   "nbconvert_exporter": "python",
   "pygments_lexer": "ipython3",
   "version": "3.8.5"
  },
  "toc": {
   "base_numbering": 1,
   "nav_menu": {},
   "number_sections": true,
   "sideBar": true,
   "skip_h1_title": false,
   "title_cell": "Table of Contents",
   "title_sidebar": "Contents",
   "toc_cell": false,
   "toc_position": {},
   "toc_section_display": true,
   "toc_window_display": false
  },
  "varInspector": {
   "cols": {
    "lenName": 16,
    "lenType": 16,
    "lenVar": 40
   },
   "kernels_config": {
    "python": {
     "delete_cmd_postfix": "",
     "delete_cmd_prefix": "del ",
     "library": "var_list.py",
     "varRefreshCmd": "print(var_dic_list())"
    },
    "r": {
     "delete_cmd_postfix": ") ",
     "delete_cmd_prefix": "rm(",
     "library": "var_list.r",
     "varRefreshCmd": "cat(var_dic_list()) "
    }
   },
   "types_to_exclude": [
    "module",
    "function",
    "builtin_function_or_method",
    "instance",
    "_Feature"
   ],
   "window_display": false
  }
 },
 "nbformat": 4,
 "nbformat_minor": 4
}
