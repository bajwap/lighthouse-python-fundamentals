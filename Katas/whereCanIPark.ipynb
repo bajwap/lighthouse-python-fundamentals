{
 "cells": [
  {
   "cell_type": "code",
   "execution_count": 1,
   "metadata": {},
   "outputs": [
    {
     "name": "stdout",
     "output_type": "stream",
     "text": [
      "[4, 0]\n",
      "False\n",
      "[3, 5]\n"
     ]
    }
   ],
   "source": [
    "def whereCanIPark(spots, vehicle):\n",
    "    x = len(spots)\n",
    "    y = len(spots[0])\n",
    "    \n",
    "    if vehicle == 'regular':\n",
    "        for i in range(x):\n",
    "            for j in range(y):\n",
    "                if spots[i][j]=='R':\n",
    "                    return [j, i]\n",
    "        return False       \n",
    "    \n",
    "    elif vehicle == 'small':\n",
    "        for i in range(x):\n",
    "            for j in range(y):\n",
    "                if spots[i][j]=='S':\n",
    "                    return [j, i]\n",
    "        for i in range(x):\n",
    "            for j in range(y):                \n",
    "                if spots[i][j]=='R':\n",
    "                    return [j, i]\n",
    "        return False\n",
    "    \n",
    "    elif vehicle == 'motorcycle':\n",
    "        for i in range(x):\n",
    "            for j in range(y):\n",
    "                if spots[i][j]=='M':\n",
    "                    return [j, i]\n",
    "        for i in range(x):\n",
    "            for j in range(y):              \n",
    "                if spots[i][j]=='S':\n",
    "                    return [j, i]\n",
    "        for i in range(x):\n",
    "            for j in range(y):                \n",
    "                if spots[i][j]=='R':\n",
    "                    return [j, i]\n",
    "        return False\n",
    "    else:\n",
    "        return 'Invalid entry'\n",
    "\n",
    "\n",
    "print(whereCanIPark(\n",
    "  [\n",
    "    # COLUMNS ARE X\n",
    "    # 0    1    2    3    4    5\n",
    "    ['s', 's', 's', 'S', 'R', 'M'], # 0 ROWS ARE Y\n",
    "    ['s', 'M', 's', 'S', 'r', 'M'], # 1\n",
    "    ['s', 'M', 's', 'S', 'r', 'm'], # 2\n",
    "    ['S', 'r', 's', 'm', 'r', 'M'], # 3\n",
    "    ['S', 'r', 's', 'm', 'r', 'M'], # 4\n",
    "    ['S', 'r', 'S', 'M', 'M', 'S']  # 5\n",
    "  ],\n",
    "  'regular'\n",
    "))  \n",
    "\n",
    "print(whereCanIPark(\n",
    "  [\n",
    "    ['M', 'M', 'M', 'M'],\n",
    "    ['M', 's', 'M', 'M'],\n",
    "    ['M', 'M', 'M', 'M'],\n",
    "    ['M', 'M', 'r', 'M']\n",
    "  ],\n",
    "  'small'\n",
    "))\n",
    "\n",
    "print(whereCanIPark(\n",
    "  [\n",
    "    ['s', 's', 's', 's', 's', 's'],\n",
    "    ['s', 'm', 's', 'S', 'r', 's'],\n",
    "    ['s', 'm', 's', 'S', 'r', 's'],\n",
    "    ['S', 'r', 's', 'm', 'r', 's'],\n",
    "    ['S', 'r', 's', 'm', 'R', 's'],\n",
    "    ['S', 'r', 'S', 'M', 'm', 'S']\n",
    "  ],\n",
    "  'motorcycle'\n",
    "))"
   ]
  },
  {
   "cell_type": "code",
   "execution_count": null,
   "metadata": {},
   "outputs": [],
   "source": []
  }
 ],
 "metadata": {
  "kernelspec": {
   "display_name": "Python 3",
   "language": "python",
   "name": "python3"
  },
  "language_info": {
   "codemirror_mode": {
    "name": "ipython",
    "version": 3
   },
   "file_extension": ".py",
   "mimetype": "text/x-python",
   "name": "python",
   "nbconvert_exporter": "python",
   "pygments_lexer": "ipython3",
   "version": "3.8.5"
  }
 },
 "nbformat": 4,
 "nbformat_minor": 4
}
