{
 "cells": [
  {
   "cell_type": "code",
   "execution_count": 1,
   "metadata": {},
   "outputs": [
    {
     "name": "stdout",
     "output_type": "stream",
     "text": [
      "{'name': 'Jeremiah', 'course': 'Data'}\n",
      "{'name': 'Domascus', 'course': 'Web'}\n"
     ]
    }
   ],
   "source": [
    "def instructorWithLongestName(instructors):\n",
    "    longest_name=''\n",
    "    full_info=''\n",
    "    for i in range(len(instructors)):\n",
    "        if(len(instructors[i]['name'])>len(longest_name)):\n",
    "            longest_name=instructors[i]['name']\n",
    "            full_info=instructors[i]\n",
    "    return full_info\n",
    "\n",
    "print(instructorWithLongestName([{'name':'Samuel', 'course':'iOS'}, {'name':'Jeremiah', 'course':'Data'}, \\\n",
    "                {'name':'Ophillia', 'course':'Web'}, {'name':'Donald', 'course':'Web'}]))\n",
    "print(instructorWithLongestName([{'name':'Matthew', 'course':'Data'}, {'name':'David', 'course':'iOS'}, \\\n",
    "                {'name':'Domascus', 'course':'Web'}]))"
   ]
  },
  {
   "cell_type": "code",
   "execution_count": null,
   "metadata": {},
   "outputs": [],
   "source": []
  }
 ],
 "metadata": {
  "kernelspec": {
   "display_name": "Python 3",
   "language": "python",
   "name": "python3"
  },
  "language_info": {
   "codemirror_mode": {
    "name": "ipython",
    "version": 3
   },
   "file_extension": ".py",
   "mimetype": "text/x-python",
   "name": "python",
   "nbconvert_exporter": "python",
   "pygments_lexer": "ipython3",
   "version": "3.8.5"
  }
 },
 "nbformat": 4,
 "nbformat_minor": 4
}
