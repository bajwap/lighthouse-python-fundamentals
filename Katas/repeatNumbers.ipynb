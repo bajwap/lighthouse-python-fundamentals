{
 "cells": [
  {
   "cell_type": "code",
   "execution_count": 1,
   "metadata": {},
   "outputs": [
    {
     "name": "stdout",
     "output_type": "stream",
     "text": [
      "1111111111\n",
      "11, 222\n",
      "10101010, 343434343434, 9292\n"
     ]
    }
   ],
   "source": [
    "def repeatNumbers(data):\n",
    "    string = ''\n",
    "    items = len(data)\n",
    "    for i in range(items):\n",
    "        mult = data[i][1]\n",
    "        \n",
    "        string += str(data[i][0])*mult\n",
    "        \n",
    "        if i < (items-1):\n",
    "            string += ', '\n",
    "            \n",
    "    return string\n",
    "        \n",
    "\n",
    "\n",
    "print(repeatNumbers([[1, 10]]))\n",
    "print(repeatNumbers([[1, 2], [2, 3]]))\n",
    "print(repeatNumbers([[10, 4], [34, 6], [92, 2]]))"
   ]
  },
  {
   "cell_type": "code",
   "execution_count": null,
   "metadata": {},
   "outputs": [],
   "source": []
  }
 ],
 "metadata": {
  "kernelspec": {
   "display_name": "Python 3",
   "language": "python",
   "name": "python3"
  },
  "language_info": {
   "codemirror_mode": {
    "name": "ipython",
    "version": 3
   },
   "file_extension": ".py",
   "mimetype": "text/x-python",
   "name": "python",
   "nbconvert_exporter": "python",
   "pygments_lexer": "ipython3",
   "version": "3.8.5"
  }
 },
 "nbformat": 4,
 "nbformat_minor": 4
}
