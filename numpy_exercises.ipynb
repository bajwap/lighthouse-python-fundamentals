{
 "cells": [
  {
   "cell_type": "markdown",
   "metadata": {},
   "source": [
    "# NumPy exercises\n",
    "\n",
    "We are going to practice NumPy skills and basic syntax. put here also some examples that were not in the tutorial on purpose. Try to use google and official NumPy documentation to solve these exercises."
   ]
  },
  {
   "cell_type": "markdown",
   "metadata": {},
   "source": [
    "#### 1. Import the numpy package under the name `np` (★☆☆)"
   ]
  },
  {
   "cell_type": "code",
   "execution_count": 1,
   "metadata": {},
   "outputs": [],
   "source": [
    "import numpy as np"
   ]
  },
  {
   "cell_type": "markdown",
   "metadata": {},
   "source": [
    "#### 3. Create a null vector of size 10 (★☆☆)"
   ]
  },
  {
   "cell_type": "code",
   "execution_count": 3,
   "metadata": {
    "collapsed": false,
    "jupyter": {
     "outputs_hidden": false
    }
   },
   "outputs": [
    {
     "data": {
      "text/plain": [
       "array([0., 0., 0., 0., 0., 0., 0., 0., 0., 0.])"
      ]
     },
     "execution_count": 3,
     "metadata": {},
     "output_type": "execute_result"
    }
   ],
   "source": [
    "np.zeros(10)"
   ]
  },
  {
   "cell_type": "markdown",
   "metadata": {},
   "source": [
    "#### 6.  Create a null vector of size 10 but the fifth value which is 1 (★☆☆)"
   ]
  },
  {
   "cell_type": "code",
   "execution_count": 4,
   "metadata": {
    "collapsed": false,
    "jupyter": {
     "outputs_hidden": false
    }
   },
   "outputs": [
    {
     "name": "stdout",
     "output_type": "stream",
     "text": [
      "[0. 0. 0. 0. 1. 0. 0. 0. 0. 0.]\n"
     ]
    }
   ],
   "source": [
    "a = np.zeros(10)\n",
    "a[4]=1\n",
    "print(a)"
   ]
  },
  {
   "cell_type": "markdown",
   "metadata": {},
   "source": [
    "#### 7.  Create a vector with values ranging from 10 to 49 (★☆☆)"
   ]
  },
  {
   "cell_type": "code",
   "execution_count": 5,
   "metadata": {
    "collapsed": false,
    "jupyter": {
     "outputs_hidden": false
    }
   },
   "outputs": [
    {
     "data": {
      "text/plain": [
       "array([10, 11, 12, 13, 14, 15, 16, 17, 18, 19, 20, 21, 22, 23, 24, 25, 26,\n",
       "       27, 28, 29, 30, 31, 32, 33, 34, 35, 36, 37, 38, 39, 40, 41, 42, 43,\n",
       "       44, 45, 46, 47, 48, 49])"
      ]
     },
     "execution_count": 5,
     "metadata": {},
     "output_type": "execute_result"
    }
   ],
   "source": [
    "np.arange(10, 50)"
   ]
  },
  {
   "cell_type": "markdown",
   "metadata": {},
   "source": [
    "#### 8.  Reverse a vector (first element becomes last) (★☆☆)"
   ]
  },
  {
   "cell_type": "code",
   "execution_count": 282,
   "metadata": {
    "collapsed": false,
    "jupyter": {
     "outputs_hidden": false
    }
   },
   "outputs": [
    {
     "name": "stdout",
     "output_type": "stream",
     "text": [
      "[ 0  1  2  3  4  5  6  7  8  9 10 11 12 13 14 15 16 17 18 19]\n",
      "[19 18 17 16 15 14 13 12 11 10  9  8  7  6  5  4  3  2  1  0]\n",
      "[19 18 17 16 15 14 13 12 11 10  9  8  7  6  5  4  3  2  1  0]\n"
     ]
    }
   ],
   "source": [
    "a = np.arange(0, 20)\n",
    "print(a)\n",
    "b = np.flip(a)\n",
    "print(b)\n",
    "c = a[::-1]\n",
    "print(c)"
   ]
  },
  {
   "cell_type": "markdown",
   "metadata": {},
   "source": [
    "#### 9.  Create a 3x3 matrix with values ranging from 0 to 8 (★☆☆)"
   ]
  },
  {
   "cell_type": "code",
   "execution_count": 283,
   "metadata": {
    "collapsed": false,
    "jupyter": {
     "outputs_hidden": false
    }
   },
   "outputs": [
    {
     "name": "stdout",
     "output_type": "stream",
     "text": [
      "[[6 1 6]\n",
      " [2 5 4]\n",
      " [0 8 1]]\n",
      "[[0 1 2]\n",
      " [3 4 5]\n",
      " [6 7 8]]\n"
     ]
    }
   ],
   "source": [
    "a = np.random.randint(0,9, size=(3,3))\n",
    "print(a)\n",
    "\n",
    "b=np.arange(9).reshape(3,3)\n",
    "print(b)"
   ]
  },
  {
   "cell_type": "markdown",
   "metadata": {},
   "source": [
    "#### 10. Find indices of non-zero elements from \\[1,2,0,0,4,0\\] (★☆☆)"
   ]
  },
  {
   "cell_type": "code",
   "execution_count": 145,
   "metadata": {
    "collapsed": false,
    "jupyter": {
     "outputs_hidden": false
    }
   },
   "outputs": [
    {
     "data": {
      "text/plain": [
       "(array([0, 1, 4]),)"
      ]
     },
     "execution_count": 145,
     "metadata": {},
     "output_type": "execute_result"
    }
   ],
   "source": [
    "a = np.array([1,2,0,0,4,0])\n",
    "np.nonzero(a) # returns indicies"
   ]
  },
  {
   "cell_type": "markdown",
   "metadata": {},
   "source": [
    "#### 12. Create a 3x3x3 array with random values (★☆☆)"
   ]
  },
  {
   "cell_type": "code",
   "execution_count": 287,
   "metadata": {},
   "outputs": [
    {
     "name": "stdout",
     "output_type": "stream",
     "text": [
      "[[[0.44938393 0.78539909 0.26617106]\n",
      "  [0.90921536 0.82429953 0.32174742]\n",
      "  [0.64563458 0.14091037 0.27270199]]\n",
      "\n",
      " [[0.28660488 0.27035205 0.41076315]\n",
      "  [0.69555995 0.75910634 0.03370718]\n",
      "  [0.83876993 0.19395328 0.03658609]]\n",
      "\n",
      " [[0.3605923  0.38715888 0.80975562]\n",
      "  [0.63240928 0.22574997 0.63869771]\n",
      "  [0.04051387 0.38693984 0.96208851]]]\n",
      "[[[ 9 11  5]\n",
      "  [ 7  2  9]\n",
      "  [13 11 15]]\n",
      "\n",
      " [[ 8 17 15]\n",
      "  [15  7 17]\n",
      "  [15  8  2]]\n",
      "\n",
      " [[ 6 10  8]\n",
      "  [15  6 15]\n",
      "  [14  1  4]]]\n"
     ]
    }
   ],
   "source": [
    "a = np.random.rand(3,3,3)\n",
    "print(a)\n",
    "\n",
    "b = np.random.randint(1,20, size=(3,3,3))\n",
    "print(b)"
   ]
  },
  {
   "cell_type": "markdown",
   "metadata": {},
   "source": [
    "#### 13. Create a 10x10 array with random values and find the minimum and maximum values (★☆☆)"
   ]
  },
  {
   "cell_type": "code",
   "execution_count": 296,
   "metadata": {
    "collapsed": false,
    "jupyter": {
     "outputs_hidden": false
    }
   },
   "outputs": [
    {
     "name": "stdout",
     "output_type": "stream",
     "text": [
      "[[0.24551116 0.07813299 0.72632393 0.82432098 0.98134851 0.77780617\n",
      "  0.93089967 0.78881121 0.45708205 0.09000527]\n",
      " [0.86574389 0.63033731 0.5378637  0.41487833 0.36926928 0.34876575\n",
      "  0.33429912 0.35750426 0.26134848 0.84017759]\n",
      " [0.00683879 0.98124778 0.58306274 0.41172981 0.53489469 0.95464758\n",
      "  0.85139649 0.03871946 0.0773803  0.88369532]\n",
      " [0.84623797 0.83542529 0.10277829 0.12394184 0.04323924 0.40505604\n",
      "  0.35773072 0.49666222 0.49316912 0.57730422]\n",
      " [0.52823511 0.76005163 0.24527577 0.66087884 0.09958153 0.8863649\n",
      "  0.42923485 0.2135085  0.64444537 0.11179282]\n",
      " [0.06524948 0.29690864 0.97106405 0.72676654 0.19945754 0.13696122\n",
      "  0.77494863 0.23112128 0.8272961  0.13338261]\n",
      " [0.32125966 0.14923768 0.90147705 0.41562736 0.91151899 0.80605081\n",
      "  0.8723431  0.67856759 0.53346224 0.44571355]\n",
      " [0.1311135  0.89462146 0.04098838 0.67302167 0.606673   0.98332291\n",
      "  0.05629791 0.0055843  0.60265447 0.72098164]\n",
      " [0.55406535 0.54387958 0.80747496 0.2880316  0.90052165 0.89329721\n",
      "  0.36851031 0.41675279 0.50802822 0.56395942]\n",
      " [0.00702831 0.01936251 0.82906087 0.02690134 0.26581443 0.33486012\n",
      "  0.36218375 0.27967553 0.26088609 0.58662585]]\n",
      "\n",
      "\n",
      "a_min: 0.00558429550569961     a_max: 0.9833229059053524\n"
     ]
    }
   ],
   "source": [
    "a = np.random.random((10,10))\n",
    "print(a)\n",
    "\n",
    "a_min, a_max = np.min(a), np.max(a)\n",
    "print('\\n')\n",
    "print('a_min: {}     a_max: {}'.format(a_min, a_max))"
   ]
  },
  {
   "cell_type": "markdown",
   "metadata": {},
   "source": [
    "#### 14. Create a random vector of size 30 and find the mean value (★☆☆)"
   ]
  },
  {
   "cell_type": "code",
   "execution_count": 34,
   "metadata": {
    "collapsed": false,
    "jupyter": {
     "outputs_hidden": false
    }
   },
   "outputs": [
    {
     "name": "stdout",
     "output_type": "stream",
     "text": [
      "[0.3714507  0.21671613 0.23697714 0.63160748 0.99258232 0.93735355\n",
      " 0.64549478 0.75929057 0.0608293  0.082939   0.33305277 0.93154922\n",
      " 0.67268986 0.83771793 0.60883262 0.92143726 0.41810733 0.50746455\n",
      " 0.85292928 0.67013718 0.1784703  0.46732067 0.99470579 0.10267509\n",
      " 0.10208569 0.46953191 0.19227596 0.18976874 0.73936064 0.56073129]\n"
     ]
    }
   ],
   "source": [
    "a = np.random.rand(30)\n",
    "print(a)"
   ]
  },
  {
   "cell_type": "code",
   "execution_count": 35,
   "metadata": {},
   "outputs": [
    {
     "data": {
      "text/plain": [
       "0.5228695011690505"
      ]
     },
     "execution_count": 35,
     "metadata": {},
     "output_type": "execute_result"
    }
   ],
   "source": [
    "np.mean(a)"
   ]
  },
  {
   "cell_type": "markdown",
   "metadata": {},
   "source": [
    "#### 15. Create a 2d array with 1 on the border and 0 inside (★☆☆)"
   ]
  },
  {
   "cell_type": "code",
   "execution_count": 297,
   "metadata": {
    "collapsed": false,
    "jupyter": {
     "outputs_hidden": false
    }
   },
   "outputs": [
    {
     "name": "stdout",
     "output_type": "stream",
     "text": [
      "[[1. 1. 1.]\n",
      " [1. 0. 1.]\n",
      " [1. 1. 1.]]\n"
     ]
    }
   ],
   "source": [
    "a = np.ones((3,3))\n",
    "a[1,1]=0\n",
    "print(a)"
   ]
  },
  {
   "cell_type": "code",
   "execution_count": 302,
   "metadata": {},
   "outputs": [
    {
     "name": "stdout",
     "output_type": "stream",
     "text": [
      "[[1. 1. 1. 1. 1. 1. 1. 1. 1. 1.]\n",
      " [1. 1. 1. 1. 1. 1. 1. 1. 1. 1.]\n",
      " [1. 1. 1. 1. 1. 1. 1. 1. 1. 1.]\n",
      " [1. 1. 1. 1. 1. 1. 1. 1. 1. 1.]\n",
      " [1. 1. 1. 1. 1. 1. 1. 1. 1. 1.]\n",
      " [1. 1. 1. 1. 1. 1. 1. 1. 1. 1.]\n",
      " [1. 1. 1. 1. 1. 1. 1. 1. 1. 1.]\n",
      " [1. 1. 1. 1. 1. 1. 1. 1. 1. 1.]\n",
      " [1. 1. 1. 1. 1. 1. 1. 1. 1. 1.]\n",
      " [1. 1. 1. 1. 1. 1. 1. 1. 1. 1.]]\n",
      "\n",
      "\n",
      "[[1. 1. 1. 1. 1. 1. 1. 1. 1. 1.]\n",
      " [1. 0. 0. 0. 0. 0. 0. 0. 0. 1.]\n",
      " [1. 0. 0. 0. 0. 0. 0. 0. 0. 1.]\n",
      " [1. 0. 0. 0. 0. 0. 0. 0. 0. 1.]\n",
      " [1. 0. 0. 0. 0. 0. 0. 0. 0. 1.]\n",
      " [1. 0. 0. 0. 0. 0. 0. 0. 0. 1.]\n",
      " [1. 0. 0. 0. 0. 0. 0. 0. 0. 1.]\n",
      " [1. 0. 0. 0. 0. 0. 0. 0. 0. 1.]\n",
      " [1. 0. 0. 0. 0. 0. 0. 0. 0. 1.]\n",
      " [1. 1. 1. 1. 1. 1. 1. 1. 1. 1.]]\n"
     ]
    }
   ],
   "source": [
    "a = np.ones((10,10))\n",
    "print(a)\n",
    "print('\\n')\n",
    "a[1:-1, 1:-1] = 0\n",
    "print(a)"
   ]
  },
  {
   "cell_type": "markdown",
   "metadata": {},
   "source": [
    "#### 16. How to add a border (fi lled with 0's) around an existing array? (★☆☆)"
   ]
  },
  {
   "cell_type": "code",
   "execution_count": 305,
   "metadata": {
    "collapsed": false,
    "jupyter": {
     "outputs_hidden": false
    }
   },
   "outputs": [
    {
     "name": "stdout",
     "output_type": "stream",
     "text": [
      "[[0. 0. 0. 0. 0. 0. 0. 0. 0. 0. 0. 0.]\n",
      " [0. 1. 1. 1. 1. 1. 1. 1. 1. 1. 1. 0.]\n",
      " [0. 1. 1. 1. 1. 1. 1. 1. 1. 1. 1. 0.]\n",
      " [0. 1. 1. 1. 1. 1. 1. 1. 1. 1. 1. 0.]\n",
      " [0. 1. 1. 1. 1. 1. 1. 1. 1. 1. 1. 0.]\n",
      " [0. 1. 1. 1. 1. 1. 1. 1. 1. 1. 1. 0.]\n",
      " [0. 1. 1. 1. 1. 1. 1. 1. 1. 1. 1. 0.]\n",
      " [0. 1. 1. 1. 1. 1. 1. 1. 1. 1. 1. 0.]\n",
      " [0. 1. 1. 1. 1. 1. 1. 1. 1. 1. 1. 0.]\n",
      " [0. 1. 1. 1. 1. 1. 1. 1. 1. 1. 1. 0.]\n",
      " [0. 1. 1. 1. 1. 1. 1. 1. 1. 1. 1. 0.]\n",
      " [0. 0. 0. 0. 0. 0. 0. 0. 0. 0. 0. 0.]]\n"
     ]
    }
   ],
   "source": [
    "a = np.ones((10,10))\n",
    "a = np.pad(a, pad_width=1, mode='constant', constant_values=0)\n",
    "print(a)"
   ]
  },
  {
   "cell_type": "markdown",
   "metadata": {},
   "source": [
    "#### 17. What is the result of the following expression? (★☆☆)"
   ]
  },
  {
   "cell_type": "markdown",
   "metadata": {},
   "source": [
    "```python\n",
    "0 * np.nan\n",
    "np.nan == np.nan\n",
    "np.inf > np.nan\n",
    "np.nan - np.nan\n",
    "np.nan in set([np.nan])\n",
    "0.3 == 3 * 0.1\n",
    "```"
   ]
  },
  {
   "cell_type": "code",
   "execution_count": 52,
   "metadata": {
    "collapsed": false,
    "jupyter": {
     "outputs_hidden": false
    }
   },
   "outputs": [
    {
     "data": {
      "text/plain": [
       "nan"
      ]
     },
     "execution_count": 52,
     "metadata": {},
     "output_type": "execute_result"
    }
   ],
   "source": [
    "0 * np.nan"
   ]
  },
  {
   "cell_type": "code",
   "execution_count": 53,
   "metadata": {},
   "outputs": [
    {
     "data": {
      "text/plain": [
       "False"
      ]
     },
     "execution_count": 53,
     "metadata": {},
     "output_type": "execute_result"
    }
   ],
   "source": [
    "np.nan == np.nan"
   ]
  },
  {
   "cell_type": "code",
   "execution_count": 54,
   "metadata": {},
   "outputs": [
    {
     "data": {
      "text/plain": [
       "False"
      ]
     },
     "execution_count": 54,
     "metadata": {},
     "output_type": "execute_result"
    }
   ],
   "source": [
    "np.inf > np.nan"
   ]
  },
  {
   "cell_type": "code",
   "execution_count": 55,
   "metadata": {},
   "outputs": [
    {
     "data": {
      "text/plain": [
       "nan"
      ]
     },
     "execution_count": 55,
     "metadata": {},
     "output_type": "execute_result"
    }
   ],
   "source": [
    "np.nan - np.nan"
   ]
  },
  {
   "cell_type": "code",
   "execution_count": 56,
   "metadata": {},
   "outputs": [
    {
     "data": {
      "text/plain": [
       "True"
      ]
     },
     "execution_count": 56,
     "metadata": {},
     "output_type": "execute_result"
    }
   ],
   "source": [
    "np.nan in set([np.nan])"
   ]
  },
  {
   "cell_type": "code",
   "execution_count": 307,
   "metadata": {},
   "outputs": [
    {
     "data": {
      "text/plain": [
       "False"
      ]
     },
     "execution_count": 307,
     "metadata": {},
     "output_type": "execute_result"
    }
   ],
   "source": [
    "0.3 == 3 * 0.1"
   ]
  },
  {
   "cell_type": "code",
   "execution_count": 310,
   "metadata": {},
   "outputs": [
    {
     "data": {
      "text/plain": [
       "0.30000000000000004"
      ]
     },
     "execution_count": 310,
     "metadata": {},
     "output_type": "execute_result"
    }
   ],
   "source": [
    "3*0.1"
   ]
  },
  {
   "cell_type": "markdown",
   "metadata": {},
   "source": [
    "#### 18. Create a 5x5 matrix with values 1,2,3,4 just below the diagonal (★☆☆)"
   ]
  },
  {
   "cell_type": "code",
   "execution_count": 312,
   "metadata": {},
   "outputs": [
    {
     "data": {
      "text/plain": [
       "array([[0, 0, 0, 0, 0],\n",
       "       [1, 0, 0, 0, 0],\n",
       "       [0, 2, 0, 0, 0],\n",
       "       [0, 0, 3, 0, 0],\n",
       "       [0, 0, 0, 4, 0]])"
      ]
     },
     "execution_count": 312,
     "metadata": {},
     "output_type": "execute_result"
    }
   ],
   "source": [
    "np.diag([1,2,3,4], -1)"
   ]
  },
  {
   "cell_type": "code",
   "execution_count": 311,
   "metadata": {
    "collapsed": false,
    "jupyter": {
     "outputs_hidden": false
    }
   },
   "outputs": [
    {
     "data": {
      "text/plain": [
       "array([[0, 0, 0, 0, 0],\n",
       "       [1, 0, 0, 0, 0],\n",
       "       [0, 2, 0, 0, 0],\n",
       "       [0, 0, 3, 0, 0],\n",
       "       [0, 0, 0, 4, 0]])"
      ]
     },
     "execution_count": 311,
     "metadata": {},
     "output_type": "execute_result"
    }
   ],
   "source": [
    "np.diag((np.arange(4)+1), -1)"
   ]
  },
  {
   "cell_type": "markdown",
   "metadata": {},
   "source": [
    "#### 20. Consider a (6,7,8) shape array, what is the index (x,y,z) of the 100th element?"
   ]
  },
  {
   "cell_type": "code",
   "execution_count": 315,
   "metadata": {
    "collapsed": false,
    "jupyter": {
     "outputs_hidden": false
    }
   },
   "outputs": [
    {
     "name": "stdout",
     "output_type": "stream",
     "text": [
      "1 5 3\n"
     ]
    }
   ],
   "source": [
    "n = 0\n",
    "for i in range(6):\n",
    "    for j in range(7):\n",
    "        for k in range(8):\n",
    "            n += 1\n",
    "            if n==100:\n",
    "                break\n",
    "        if n==100:\n",
    "            break\n",
    "    if n==100:\n",
    "        break\n",
    "        \n",
    "print(i, j, k)"
   ]
  },
  {
   "cell_type": "code",
   "execution_count": 320,
   "metadata": {},
   "outputs": [
    {
     "name": "stdout",
     "output_type": "stream",
     "text": [
      "(1, 5, 4)\n"
     ]
    }
   ],
   "source": [
    "print (np.unravel_index(100, (6,7,8)))"
   ]
  },
  {
   "cell_type": "markdown",
   "metadata": {},
   "source": [
    "#### 22. Normalize a 5x5 random matrix (★☆☆)"
   ]
  },
  {
   "cell_type": "code",
   "execution_count": 321,
   "metadata": {
    "collapsed": false,
    "jupyter": {
     "outputs_hidden": false
    }
   },
   "outputs": [
    {
     "name": "stdout",
     "output_type": "stream",
     "text": [
      "[[0.10011907 0.86873876 0.92030849 0.31663185 0.04762314]\n",
      " [0.17288424 0.40210669 0.79929109 0.85806632 0.58189215]\n",
      " [0.65839077 0.51062092 0.90543419 0.2385254  0.32631012]\n",
      " [0.48651181 0.34950536 0.36622174 0.00959679 0.08356486]\n",
      " [0.84565073 0.88526197 0.82466131 0.11274521 0.54784209]]\n",
      "[[0.03477551 0.30174904 0.31966135 0.10997939 0.01654149]\n",
      " [0.06004987 0.13966835 0.27762698 0.29804206 0.2021153 ]\n",
      " [0.22868645 0.17735985 0.31449489 0.08284978 0.11334105]\n",
      " [0.16898575 0.12139772 0.12720402 0.00333336 0.02902555]\n",
      " [0.29372961 0.30748824 0.28643911 0.03916109 0.19028831]]\n"
     ]
    }
   ],
   "source": [
    "a = np.random.rand(5,5)\n",
    "print(a)\n",
    "norm = np.linalg.norm(a)\n",
    "normal_array = a/norm\n",
    "print(normal_array)"
   ]
  },
  {
   "cell_type": "code",
   "execution_count": 323,
   "metadata": {},
   "outputs": [
    {
     "name": "stdout",
     "output_type": "stream",
     "text": [
      "[[0.8977489  0.80016274 0.15727377 0.5419184  0.81654923]\n",
      " [0.08954879 0.07004843 0.00495404 0.33414926 0.0492161 ]\n",
      " [0.33448709 0.54940951 0.0957456  0.91223602 0.97286191]\n",
      " [0.19257299 0.29828859 0.90615461 0.14530724 0.09967985]\n",
      " [0.32181164 0.86635756 0.28562485 0.92111345 0.6226824 ]]\n",
      "[[0.92239654 0.82157479 0.15737007 0.55476805 0.83850459]\n",
      " [0.08739958 0.06725267 0.         0.34011007 0.04572961]\n",
      " [0.34045911 0.56250754 0.09380186 0.93736399 1.        ]\n",
      " [0.19383968 0.3030604  0.93108095 0.14500677 0.09786656]\n",
      " [0.32736339 0.88996438 0.28997678 0.94653577 0.63820987]]\n"
     ]
    }
   ],
   "source": [
    "a = np.random.rand(5,5)\n",
    "print(a)\n",
    "a_min, a_max = np.min(a), np.max(a)\n",
    "\n",
    "a = (a - a_min)/(a_max - a_min)\n",
    "print(a)"
   ]
  },
  {
   "cell_type": "markdown",
   "metadata": {},
   "source": [
    "#### 25. Given a 1D array, negate all elements which are between 3 and 8, in place. (★☆☆)"
   ]
  },
  {
   "cell_type": "code",
   "execution_count": 139,
   "metadata": {
    "collapsed": false,
    "jupyter": {
     "outputs_hidden": false
    }
   },
   "outputs": [
    {
     "name": "stdout",
     "output_type": "stream",
     "text": [
      "[ 0  1  2  3  4  5  6  7  8  9 10]\n"
     ]
    }
   ],
   "source": [
    "a = np.arange(11)\n",
    "print(a)"
   ]
  },
  {
   "cell_type": "code",
   "execution_count": 140,
   "metadata": {},
   "outputs": [
    {
     "data": {
      "text/plain": [
       "array([ 0,  1,  2,  3, -4, -5, -6, -7,  8,  9, 10])"
      ]
     },
     "execution_count": 140,
     "metadata": {},
     "output_type": "execute_result"
    }
   ],
   "source": [
    "np.negative(a, where=((a>3) & (a<8)))"
   ]
  },
  {
   "cell_type": "code",
   "execution_count": 141,
   "metadata": {},
   "outputs": [
    {
     "name": "stdout",
     "output_type": "stream",
     "text": [
      "[[ 5  0  7 14  7 10 10 12 10 11  8 10 14  6 12]]\n"
     ]
    }
   ],
   "source": [
    "b = np.random.randint(0,15, size=(1,15))\n",
    "print(b)"
   ]
  },
  {
   "cell_type": "code",
   "execution_count": 142,
   "metadata": {},
   "outputs": [
    {
     "data": {
      "text/plain": [
       "array([[-5,  0, -7,  8, -7,  5, 11,  6,  7,  0,  2,  0,  9, -6, 12]])"
      ]
     },
     "execution_count": 142,
     "metadata": {},
     "output_type": "execute_result"
    }
   ],
   "source": [
    "np.negative(b,where=((b>3) & (b<8)))"
   ]
  },
  {
   "cell_type": "markdown",
   "metadata": {},
   "source": [
    "#### 29. How to round away from zero a float array ? (★☆☆)"
   ]
  },
  {
   "cell_type": "code",
   "execution_count": 151,
   "metadata": {
    "collapsed": false,
    "jupyter": {
     "outputs_hidden": false
    }
   },
   "outputs": [
    {
     "name": "stdout",
     "output_type": "stream",
     "text": [
      "[-2.10000000e+00 -2.00000000e+00 -1.90000000e+00 -1.80000000e+00\n",
      " -1.70000000e+00 -1.60000000e+00 -1.50000000e+00 -1.40000000e+00\n",
      " -1.30000000e+00 -1.20000000e+00 -1.10000000e+00 -1.00000000e+00\n",
      " -9.00000000e-01 -8.00000000e-01 -7.00000000e-01 -6.00000000e-01\n",
      " -5.00000000e-01 -4.00000000e-01 -3.00000000e-01 -2.00000000e-01\n",
      " -1.00000000e-01  1.77635684e-15  1.00000000e-01  2.00000000e-01\n",
      "  3.00000000e-01  4.00000000e-01  5.00000000e-01  6.00000000e-01\n",
      "  7.00000000e-01  8.00000000e-01  9.00000000e-01  1.00000000e+00\n",
      "  1.10000000e+00  1.20000000e+00  1.30000000e+00  1.40000000e+00\n",
      "  1.50000000e+00  1.60000000e+00  1.70000000e+00  1.80000000e+00\n",
      "  1.90000000e+00  2.00000000e+00]\n"
     ]
    }
   ],
   "source": [
    "a = np.arange(-2.1, 2.1, 0.1)\n",
    "print(a)"
   ]
  },
  {
   "cell_type": "code",
   "execution_count": 155,
   "metadata": {},
   "outputs": [
    {
     "name": "stdout",
     "output_type": "stream",
     "text": [
      "[-2.1 -2.  -1.9 -1.8 -1.7 -1.6 -1.5 -1.4 -1.3 -1.2 -1.1 -1.  -0.9 -0.8\n",
      " -0.7 -0.6 -0.5 -0.4 -0.3 -0.2 -0.1  0.   0.1  0.2  0.3  0.4  0.5  0.6\n",
      "  0.7  0.8  0.9  1.   1.1  1.2  1.3  1.4  1.5  1.6  1.7  1.8  1.9  2. ]\n"
     ]
    }
   ],
   "source": [
    "b = np.around(a, decimals=1)\n",
    "print(b)"
   ]
  },
  {
   "cell_type": "markdown",
   "metadata": {},
   "source": [
    "#### 30. How to find common values between two arrays? (★☆☆)"
   ]
  },
  {
   "cell_type": "code",
   "execution_count": 163,
   "metadata": {
    "collapsed": false,
    "jupyter": {
     "outputs_hidden": false
    }
   },
   "outputs": [
    {
     "name": "stdout",
     "output_type": "stream",
     "text": [
      "[[16 16  6  4  9 16 15 14 13 11]]\n",
      "[[23 24 15 21 14 21 21 21  5 11]]\n"
     ]
    },
    {
     "data": {
      "text/plain": [
       "array([11, 14, 15])"
      ]
     },
     "execution_count": 163,
     "metadata": {},
     "output_type": "execute_result"
    }
   ],
   "source": [
    "a=np.random.randint(1,20, size=(1,10))\n",
    "b=np.random.randint(5,25, size=(1,10))\n",
    "print(a)\n",
    "print(b)\n",
    "np.intersect1d(a,b)"
   ]
  },
  {
   "cell_type": "markdown",
   "metadata": {},
   "source": [
    "#### 32. Is the following expressions true? (★☆☆)"
   ]
  },
  {
   "cell_type": "markdown",
   "metadata": {},
   "source": [
    "```python\n",
    "np.sqrt(-1) == np.emath.sqrt(-1)\n",
    "```"
   ]
  },
  {
   "cell_type": "code",
   "execution_count": 68,
   "metadata": {
    "collapsed": false,
    "jupyter": {
     "outputs_hidden": false
    }
   },
   "outputs": [
    {
     "name": "stderr",
     "output_type": "stream",
     "text": [
      "<ipython-input-68-16339fbc685e>:1: RuntimeWarning: invalid value encountered in sqrt\n",
      "  np.sqrt(-1) == np.emath.sqrt(-1)\n"
     ]
    },
    {
     "data": {
      "text/plain": [
       "False"
      ]
     },
     "execution_count": 68,
     "metadata": {},
     "output_type": "execute_result"
    }
   ],
   "source": [
    "np.sqrt(-1) == np.emath.sqrt(-1)"
   ]
  },
  {
   "cell_type": "code",
   "execution_count": 69,
   "metadata": {},
   "outputs": [
    {
     "name": "stdout",
     "output_type": "stream",
     "text": [
      "1j\n"
     ]
    }
   ],
   "source": [
    "print(np.emath.sqrt(-1))"
   ]
  },
  {
   "cell_type": "code",
   "execution_count": 70,
   "metadata": {},
   "outputs": [
    {
     "name": "stdout",
     "output_type": "stream",
     "text": [
      "nan\n"
     ]
    },
    {
     "name": "stderr",
     "output_type": "stream",
     "text": [
      "<ipython-input-70-41a4088c2eb8>:1: RuntimeWarning: invalid value encountered in sqrt\n",
      "  print(np.sqrt(-1))\n"
     ]
    }
   ],
   "source": [
    "print(np.sqrt(-1))"
   ]
  },
  {
   "cell_type": "markdown",
   "metadata": {},
   "source": [
    "#### 38. Consider a generator function that generates 10 integers and use it to build an array (★☆☆)"
   ]
  },
  {
   "cell_type": "code",
   "execution_count": 324,
   "metadata": {
    "collapsed": false,
    "jupyter": {
     "outputs_hidden": false
    }
   },
   "outputs": [
    {
     "name": "stdout",
     "output_type": "stream",
     "text": [
      "[4, 99, 93, 62, 55, 78, 51, 9, 47, 26]\n"
     ]
    }
   ],
   "source": [
    "arr = []\n",
    "for i in range(10):\n",
    "    arr.append(np.random.randint(100))\n",
    "print(arr)    \n"
   ]
  },
  {
   "cell_type": "code",
   "execution_count": 326,
   "metadata": {},
   "outputs": [
    {
     "name": "stdout",
     "output_type": "stream",
     "text": [
      "[0 1 2 3 4 5 6 7 8 9]\n"
     ]
    }
   ],
   "source": [
    "def generate():\n",
    "    for i in range(10):\n",
    "        yield i #yield keyword implies a generator function\n",
    "    \n",
    "a = np.fromiter(generate(), dtype=int, count = -1)\n",
    "print(a)"
   ]
  },
  {
   "cell_type": "markdown",
   "metadata": {},
   "source": [
    "#### 39. Create a vector of size 10 with values ranging from 0 to 1, both excluded (★★☆)"
   ]
  },
  {
   "cell_type": "code",
   "execution_count": 330,
   "metadata": {
    "collapsed": false,
    "jupyter": {
     "outputs_hidden": false
    }
   },
   "outputs": [
    {
     "name": "stdout",
     "output_type": "stream",
     "text": [
      "[0.         0.09090909 0.18181818 0.27272727 0.36363636 0.45454545\n",
      " 0.54545455 0.63636364 0.72727273 0.81818182 0.90909091 1.        ]\n",
      "\n",
      "\n",
      "[0.09090909 0.18181818 0.27272727 0.36363636 0.45454545 0.54545455\n",
      " 0.63636364 0.72727273 0.81818182 0.90909091]\n"
     ]
    }
   ],
   "source": [
    "a = np.linspace(0,1,12,endpoint=True)\n",
    "print(a)\n",
    "print('\\n')\n",
    "a = a[1:-1] #-1 is non-inclusive\n",
    "print(a)"
   ]
  },
  {
   "cell_type": "markdown",
   "metadata": {},
   "source": [
    "#### 40. Create a random vector of size 10 and sort it (★★☆)"
   ]
  },
  {
   "cell_type": "code",
   "execution_count": 331,
   "metadata": {
    "collapsed": false,
    "jupyter": {
     "outputs_hidden": false
    }
   },
   "outputs": [
    {
     "name": "stdout",
     "output_type": "stream",
     "text": [
      "[[ 5 17 13 17  6 12 11 16 17 16]]\n",
      "[[ 5  6 11 12 13 16 16 17 17 17]]\n"
     ]
    }
   ],
   "source": [
    "a = np.random.randint(1,21, size=(1,10))\n",
    "print(a)\n",
    "b = np.sort(a)\n",
    "print(b)"
   ]
  },
  {
   "cell_type": "markdown",
   "metadata": {},
   "source": [
    "#### 42. Consider two random array A and B, check if they are equal (★★☆)"
   ]
  },
  {
   "cell_type": "code",
   "execution_count": 178,
   "metadata": {
    "collapsed": false,
    "jupyter": {
     "outputs_hidden": false
    }
   },
   "outputs": [
    {
     "data": {
      "text/plain": [
       "False"
      ]
     },
     "execution_count": 178,
     "metadata": {},
     "output_type": "execute_result"
    }
   ],
   "source": [
    "a = [1,3,4,5,6]\n",
    "b = [1,3,2,4,5]\n",
    "\n",
    "np.array_equal(a,b)"
   ]
  },
  {
   "cell_type": "code",
   "execution_count": 179,
   "metadata": {},
   "outputs": [
    {
     "data": {
      "text/plain": [
       "True"
      ]
     },
     "execution_count": 179,
     "metadata": {},
     "output_type": "execute_result"
    }
   ],
   "source": [
    "a = [1,3,4,5,6]\n",
    "b = [1,3,4,5,6]\n",
    "\n",
    "np.array_equal(a,b)"
   ]
  },
  {
   "cell_type": "markdown",
   "metadata": {},
   "source": [
    "#### 45. Create random vector of size 10 and replace the maximum value by 0 (★★☆)"
   ]
  },
  {
   "cell_type": "code",
   "execution_count": 341,
   "metadata": {
    "collapsed": false,
    "jupyter": {
     "outputs_hidden": false
    }
   },
   "outputs": [
    {
     "name": "stdout",
     "output_type": "stream",
     "text": [
      "[0.61508985 0.76869181 0.18565293 0.46551815 0.25443174 0.30542255\n",
      " 0.90946062 0.60444347 0.82305309 0.89382142]\n",
      "\n",
      "\n",
      "[0.61508985 0.76869181 0.18565293 0.46551815 0.25443174 0.30542255\n",
      " 0.         0.60444347 0.82305309 0.89382142]\n"
     ]
    }
   ],
   "source": [
    "a = np.random.rand(10)\n",
    "print(a)\n",
    "print('\\n')\n",
    "a[a.argmax()]=0\n",
    "print(a)"
   ]
  },
  {
   "cell_type": "code",
   "execution_count": 343,
   "metadata": {},
   "outputs": [
    {
     "name": "stdout",
     "output_type": "stream",
     "text": [
      "[0.91485702 0.87318703 0.02150543 0.29351929 0.23538293 0.04320783\n",
      " 0.86507258 0.04153623 0.65019826 0.40585009]\n",
      "\n",
      "\n",
      "max: 0.9148570243711727\n",
      "\n",
      "\n",
      "[0.         0.87318703 0.02150543 0.29351929 0.23538293 0.04320783\n",
      " 0.86507258 0.04153623 0.65019826 0.40585009]\n"
     ]
    }
   ],
   "source": [
    "a = np.random.random(10)\n",
    "print(a)\n",
    "max = np.max(a)\n",
    "print('\\n')\n",
    "print('max: {}'.format(max))\n",
    "print('\\n')\n",
    "a[np.where(a == np.max(a))]=0\n",
    "print(a)"
   ]
  },
  {
   "cell_type": "code",
   "execution_count": 348,
   "metadata": {},
   "outputs": [
    {
     "name": "stdout",
     "output_type": "stream",
     "text": [
      "[[1 1 3 3 1]]\n",
      "<class 'numpy.ndarray'>\n",
      "[0.14021721 0.46240236 0.24720232 0.59478477 0.14129433]\n",
      "<class 'numpy.ndarray'>\n"
     ]
    }
   ],
   "source": [
    "a = np.random.randint(1,5, size=(1,5))\n",
    "print(a)\n",
    "print(type(a))\n",
    "\n",
    "a = np.random.rand(5)\n",
    "print(a)\n",
    "print(type(a))"
   ]
  },
  {
   "cell_type": "markdown",
   "metadata": {},
   "source": [
    "#### 50. How to find the closest value (to a given scalar) in a vector? (★★☆)"
   ]
  },
  {
   "cell_type": "code",
   "execution_count": 191,
   "metadata": {
    "collapsed": false,
    "jupyter": {
     "outputs_hidden": false
    }
   },
   "outputs": [
    {
     "name": "stdout",
     "output_type": "stream",
     "text": [
      "[ 0  1  2  3  4  5  6  7  8  9 10 11 12 13 14 15 16 17 18 19 20 21 22 23\n",
      " 24 25 26 27 28 29 30 31 32 33 34 35 36 37 38 39 40 41 42 43 44 45 46 47\n",
      " 48 49 50 51 52 53 54 55 56 57 58 59 60 61 62 63 64 65 66 67 68 69 70 71\n",
      " 72 73 74 75 76 77 78 79 80 81 82 83 84 85 86 87 88 89 90 91 92 93 94 95\n",
      " 96 97 98 99]\n",
      "46.062078599564884\n",
      "46\n",
      "46\n"
     ]
    }
   ],
   "source": [
    "a = np.arange(100)\n",
    "b = np.random.uniform(0,100)\n",
    "print(a)\n",
    "print(b)\n",
    "index = (np.abs(a-b)).argmin() # argmin returns the index\n",
    "print(index)\n",
    "print(a[index])\n"
   ]
  },
  {
   "cell_type": "markdown",
   "metadata": {},
   "source": [
    "#### 53. How to convert a float (32 bits) array into an integer (32 bits) in place?"
   ]
  },
  {
   "cell_type": "code",
   "execution_count": 281,
   "metadata": {
    "collapsed": false,
    "jupyter": {
     "outputs_hidden": false
    }
   },
   "outputs": [
    {
     "name": "stdout",
     "output_type": "stream",
     "text": [
      "[0. 1. 2. 3. 4. 5. 6. 7. 8. 9.]\n",
      "[0 1 2 3 4 5 6 7 8 9]\n"
     ]
    }
   ],
   "source": [
    "a = np.arange(10, dtype=np.float32)\n",
    "print(a)\n",
    "a = a.astype(np.int32, copy=False)\n",
    "print(a)"
   ]
  },
  {
   "cell_type": "markdown",
   "metadata": {},
   "source": [
    "#### 59. How to sort an array by the nth column? (★★☆)"
   ]
  },
  {
   "cell_type": "code",
   "execution_count": 214,
   "metadata": {
    "collapsed": false,
    "jupyter": {
     "outputs_hidden": false
    }
   },
   "outputs": [
    {
     "name": "stdout",
     "output_type": "stream",
     "text": [
      "[[11 22 33]\n",
      " [54 15 16]\n",
      " [ 7  8 89]]\n"
     ]
    }
   ],
   "source": [
    "a = np.array([[11,22,33],[54,15,16],[7,8,89]])\n",
    "print(a)"
   ]
  },
  {
   "cell_type": "code",
   "execution_count": 217,
   "metadata": {},
   "outputs": [
    {
     "name": "stdout",
     "output_type": "stream",
     "text": [
      "[2 1 0]\n",
      "[[ 7  8 89]\n",
      " [54 15 16]\n",
      " [11 22 33]]\n"
     ]
    }
   ],
   "source": [
    "print(a[:,1].argsort()) # argsort returns indicies that sort an array\n",
    "print(a[a[:,1].argsort()])"
   ]
  },
  {
   "cell_type": "markdown",
   "metadata": {},
   "source": [
    "#### 60. How to tell if a given 2D array has null columns? (★★☆)"
   ]
  },
  {
   "cell_type": "code",
   "execution_count": 197,
   "metadata": {
    "collapsed": false,
    "jupyter": {
     "outputs_hidden": false
    }
   },
   "outputs": [
    {
     "name": "stdout",
     "output_type": "stream",
     "text": [
      "[[1 0 1 0 0 0 1 2 1 1]\n",
      " [2 0 1 1 2 2 1 2 1 1]\n",
      " [2 2 2 1 1 1 2 2 1 1]\n",
      " [1 2 2 0 1 0 0 2 0 0]]\n",
      "False\n"
     ]
    }
   ],
   "source": [
    "a = np.random.randint(0,3,(4,10))\n",
    "print(a)\n",
    "print((~a.any(axis=0)).any())"
   ]
  },
  {
   "cell_type": "markdown",
   "metadata": {},
   "source": [
    "#### 70. Consider the vector \\[1, 2, 3, 4, 5\\], how to build a new vector with 3 consecutive zeros interleaved between each value? (★★★)"
   ]
  },
  {
   "cell_type": "code",
   "execution_count": 244,
   "metadata": {
    "collapsed": false,
    "jupyter": {
     "outputs_hidden": false
    }
   },
   "outputs": [
    {
     "name": "stdout",
     "output_type": "stream",
     "text": [
      "[1 2 3 4 5]\n",
      "[1 0 0 0 2 3 4 5]\n",
      "[1 0 0 0 2 0 0 0 3 4 5]\n",
      "[1 0 0 0 2 0 0 0 3 0 0 0 4 5]\n",
      "[1 0 0 0 2 0 0 0 3 0 0 0 4 0 0 0 5]\n"
     ]
    }
   ],
   "source": [
    "a = (np.arange(5) + 1)\n",
    "print(a)\n",
    "a = np.insert(a, 1, [0,0,0])\n",
    "print(a)\n",
    "a = np.insert(a, 5, [0,0,0])\n",
    "print(a)\n",
    "a = np.insert(a, 9, [0,0,0])\n",
    "print(a)\n",
    "a = np.insert(a, 13, [0,0,0])\n",
    "print(a)"
   ]
  },
  {
   "cell_type": "code",
   "execution_count": 245,
   "metadata": {},
   "outputs": [
    {
     "name": "stdout",
     "output_type": "stream",
     "text": [
      "[0. 0. 0. 0. 0. 0. 0. 0. 0. 0. 0. 0. 0. 0. 0. 0. 0.]\n",
      "17\n",
      "[1. 0. 0. 0. 2. 0. 0. 0. 3. 0. 0. 0. 4. 0. 0. 0. 5.]\n"
     ]
    }
   ],
   "source": [
    "a = np.array([1,2,3,4,5])\n",
    "nz = 3\n",
    "b = np.zeros(len(a)+(len(a)-1)*nz)\n",
    "print(b)\n",
    "print(len(b))\n",
    "b[::4] = a\n",
    "print(b)"
   ]
  },
  {
   "cell_type": "markdown",
   "metadata": {},
   "source": [
    "#### 72. How to swap two rows of an array? (★★★)"
   ]
  },
  {
   "cell_type": "code",
   "execution_count": 246,
   "metadata": {
    "collapsed": false,
    "jupyter": {
     "outputs_hidden": false
    }
   },
   "outputs": [
    {
     "name": "stdout",
     "output_type": "stream",
     "text": [
      "[[ 0  1  2]\n",
      " [ 3  4  5]\n",
      " [ 6  7  8]\n",
      " [ 9 10 11]]\n"
     ]
    }
   ],
   "source": [
    "a = np.arange(12).reshape(4,3)\n",
    "print(a)"
   ]
  },
  {
   "cell_type": "code",
   "execution_count": 247,
   "metadata": {},
   "outputs": [
    {
     "name": "stdout",
     "output_type": "stream",
     "text": [
      "[[ 0  1  2]\n",
      " [ 6  7  8]\n",
      " [ 3  4  5]\n",
      " [ 9 10 11]]\n"
     ]
    }
   ],
   "source": [
    "a[[1,2],:] = a[[2,1],:]\n",
    "print(a)"
   ]
  },
  {
   "cell_type": "markdown",
   "metadata": {},
   "source": [
    "#### 77. How to negate a boolean, or to change the sign of a float inplace? (★★★)"
   ]
  },
  {
   "cell_type": "code",
   "execution_count": 252,
   "metadata": {
    "collapsed": false,
    "jupyter": {
     "outputs_hidden": false
    }
   },
   "outputs": [
    {
     "name": "stdout",
     "output_type": "stream",
     "text": [
      "[ True False  True  True False]\n"
     ]
    },
    {
     "data": {
      "text/plain": [
       "array([False,  True, False, False,  True])"
      ]
     },
     "execution_count": 252,
     "metadata": {},
     "output_type": "execute_result"
    }
   ],
   "source": [
    "# Negate a boolean\n",
    "\n",
    "a = np.array([True, False, True, True, False])\n",
    "print(a)\n",
    "np.logical_not(a)"
   ]
  },
  {
   "cell_type": "code",
   "execution_count": 257,
   "metadata": {},
   "outputs": [
    {
     "name": "stdout",
     "output_type": "stream",
     "text": [
      "[-0.30114373 -2.84527103  1.55288882 -2.87055913  0.86387802]\n"
     ]
    },
    {
     "data": {
      "text/plain": [
       "array([ 0.30114373,  2.84527103, -1.55288882,  2.87055913, -0.86387802])"
      ]
     },
     "execution_count": 257,
     "metadata": {},
     "output_type": "execute_result"
    }
   ],
   "source": [
    "# Change sign of a float\n",
    "\n",
    "a = np.random.uniform(-3,3,5)\n",
    "print(a)\n",
    "np.negative(a)\n"
   ]
  },
  {
   "cell_type": "markdown",
   "metadata": {},
   "source": [
    "#### 83. How to find the most frequent value in an array?"
   ]
  },
  {
   "cell_type": "code",
   "execution_count": 260,
   "metadata": {
    "collapsed": false,
    "jupyter": {
     "outputs_hidden": false
    }
   },
   "outputs": [
    {
     "name": "stdout",
     "output_type": "stream",
     "text": [
      "[6 8 9 4 6 9 9 6 9 7 2 5 9 1 5 7 3 3 2 9]\n"
     ]
    },
    {
     "data": {
      "text/plain": [
       "9"
      ]
     },
     "execution_count": 260,
     "metadata": {},
     "output_type": "execute_result"
    }
   ],
   "source": [
    "a = np.random.randint(1,10,20)\n",
    "print(a)\n",
    "np.bincount(a).argmax()"
   ]
  },
  {
   "cell_type": "markdown",
   "metadata": {},
   "source": [
    "#### 89. How to get the n largest values of an array (★★★)"
   ]
  },
  {
   "cell_type": "code",
   "execution_count": 275,
   "metadata": {
    "collapsed": false,
    "jupyter": {
     "outputs_hidden": false
    }
   },
   "outputs": [
    {
     "name": "stdout",
     "output_type": "stream",
     "text": [
      "[0 1 2 3 4 5 6 7 8 9]\n",
      "[5 6 1 3 0 2 8 9 7 4]\n"
     ]
    },
    {
     "data": {
      "text/plain": [
       "array([8, 9])"
      ]
     },
     "execution_count": 275,
     "metadata": {},
     "output_type": "execute_result"
    }
   ],
   "source": [
    "a = np.arange(10)\n",
    "print(a)\n",
    "np.random.shuffle(a)\n",
    "print(a)\n",
    "\n",
    "n=2\n",
    "a[np.argsort(a)] #argsort returns index\n",
    "a[np.argsort(a)[-n:]]"
   ]
  },
  {
   "cell_type": "markdown",
   "metadata": {},
   "source": [
    "#### 96. Given a two dimensional array, how to extract unique rows? (★★★)"
   ]
  },
  {
   "cell_type": "code",
   "execution_count": 276,
   "metadata": {
    "collapsed": false,
    "jupyter": {
     "outputs_hidden": false
    }
   },
   "outputs": [
    {
     "name": "stdout",
     "output_type": "stream",
     "text": [
      "[[ 0 20 20 20]\n",
      " [10 20 20 20]\n",
      " [20 20 20  0]]\n"
     ]
    }
   ],
   "source": [
    "x = np.array([[20, 20, 20, 0],\n",
    "              [0, 20, 20, 20],\n",
    "              [0, 20, 20, 20],\n",
    "              [20, 20, 20, 0],\n",
    "              [10, 20, 20,20]])\n",
    "\n",
    "y = np.ascontiguousarray(x).view(np.dtype((np.void, x.dtype.itemsize * x.shape[1])))\n",
    "_, idx = np.unique(y, return_index=True)\n",
    "\n",
    "unique_result = x[idx]\n",
    "\n",
    "print(unique_result)"
   ]
  },
  {
   "cell_type": "code",
   "execution_count": null,
   "metadata": {},
   "outputs": [],
   "source": []
  }
 ],
 "metadata": {
  "kernelspec": {
   "display_name": "Python 3",
   "language": "python",
   "name": "python3"
  },
  "language_info": {
   "codemirror_mode": {
    "name": "ipython",
    "version": 3
   },
   "file_extension": ".py",
   "mimetype": "text/x-python",
   "name": "python",
   "nbconvert_exporter": "python",
   "pygments_lexer": "ipython3",
   "version": "3.8.5"
  }
 },
 "nbformat": 4,
 "nbformat_minor": 4
}
